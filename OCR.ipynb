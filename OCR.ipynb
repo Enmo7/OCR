{
  "nbformat": 4,
  "nbformat_minor": 0,
  "metadata": {
    "colab": {
      "provenance": [],
      "collapsed_sections": [
        "BpIXH_KwgEXG",
        "_0X1PPxigjLS",
        "JB-dz9EmhPN5",
        "5tFCxIZ7hq16",
        "VS9Zd-VKh0KB"
      ]
    },
    "kernelspec": {
      "name": "python3",
      "display_name": "Python 3"
    },
    "language_info": {
      "name": "python"
    }
  },
  "cells": [
    {
      "cell_type": "markdown",
      "source": [
        "# Install Tesseract OCR library and the Python wrapper Pytesseract"
      ],
      "metadata": {
        "id": "BpIXH_KwgEXG"
      }
    },
    {
      "cell_type": "code",
      "execution_count": null,
      "metadata": {
        "colab": {
          "base_uri": "https://localhost:8080/"
        },
        "id": "NkWQ07Rnf_mS",
        "outputId": "474681e6-a0d1-4954-9bef-5add2a446073"
      },
      "outputs": [
        {
          "output_type": "stream",
          "name": "stdout",
          "text": [
            "Looking in indexes: https://pypi.org/simple, https://us-python.pkg.dev/colab-wheels/public/simple/\n",
            "Requirement already satisfied: pytesseract in /usr/local/lib/python3.10/dist-packages (0.3.10)\n",
            "Requirement already satisfied: packaging>=21.3 in /usr/local/lib/python3.10/dist-packages (from pytesseract) (23.1)\n",
            "Requirement already satisfied: Pillow>=8.0.0 in /usr/local/lib/python3.10/dist-packages (from pytesseract) (8.4.0)\n"
          ]
        }
      ],
      "source": [
        "!pip install pytesseract"
      ]
    },
    {
      "cell_type": "markdown",
      "source": [
        "# Import the necessary libraries"
      ],
      "metadata": {
        "id": "_0X1PPxigjLS"
      }
    },
    {
      "cell_type": "code",
      "source": [
        "import pytesseract\n",
        "import cv2"
      ],
      "metadata": {
        "id": "HwmmTZekgJUL"
      },
      "execution_count": null,
      "outputs": []
    },
    {
      "cell_type": "code",
      "source": [
        "pytesseract.pytesseract.tesseract_cmd = 'C:/OCR/Tesseract-OCR/tesseract.exe'  # your path may be different"
      ],
      "metadata": {
        "id": "m_F1wpBrxH2Z"
      },
      "execution_count": null,
      "outputs": []
    },
    {
      "cell_type": "markdown",
      "source": [
        "# Load the image you want to perform OCR on"
      ],
      "metadata": {
        "id": "JB-dz9EmhPN5"
      }
    },
    {
      "cell_type": "code",
      "source": [
        "img = cv2.imread('ocr1.jpg')"
      ],
      "metadata": {
        "id": "ZseiYJDNhci9"
      },
      "execution_count": null,
      "outputs": []
    },
    {
      "cell_type": "markdown",
      "source": [
        "# Preprocess the image to improve OCR accuracy "
      ],
      "metadata": {
        "id": "5tFCxIZ7hq16"
      }
    },
    {
      "cell_type": "code",
      "source": [
        "# Convert the image to grayscale\n",
        "gray = cv2.cvtColor(img, cv2.COLOR_BGR2GRAY)\n",
        "\n",
        "# Apply thresholding to remove noise and improve text contrast\n",
        "gray = cv2.threshold(gray, 0, 255, cv2.THRESH_BINARY | cv2.THRESH_OTSU)[1]\n",
        "\n",
        "# Apply image dilation to make the text bolder (optional)\n",
        "kernel = cv2.getStructuringElement(cv2.MORPH_RECT, (3, 3))\n",
        "gray = cv2.dilate(gray, kernel, iterations=1)"
      ],
      "metadata": {
        "id": "jdaD6QfPhnf8"
      },
      "execution_count": null,
      "outputs": []
    },
    {
      "cell_type": "markdown",
      "source": [
        "# Perform OCR on the preprocessed image"
      ],
      "metadata": {
        "id": "VS9Zd-VKh0KB"
      }
    },
    {
      "cell_type": "code",
      "source": [
        "text = pytesseract.image_to_string(gray)\n",
        "print(text)"
      ],
      "metadata": {
        "id": "u2erTzOtqHuK"
      },
      "execution_count": null,
      "outputs": []
    }
  ]
}